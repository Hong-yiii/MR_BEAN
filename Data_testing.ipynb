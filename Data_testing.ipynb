{
 "cells": [
  {
   "cell_type": "code",
   "execution_count": 1,
   "metadata": {},
   "outputs": [
    {
     "name": "stdout",
     "output_type": "stream",
     "text": [
      "File information:\n",
      "<class 'netCDF4._netCDF4.Dataset'>\n",
      "root group (NETCDF4 data model, file format HDF5):\n",
      "    History: Original file generated: Wed Sep 11 20:40:43 2024 GMT\n",
      "    Comment: GMAO filename: d5124_m2_jan10.tavg1_2d_flx_Nx.20240901.nc4\n",
      "    Filename: MERRA2_400.tavg1_2d_flx_Nx.20240901.nc4\n",
      "    Conventions: CF-1\n",
      "    Institution: NASA Global Modeling and Assimilation Office\n",
      "    References: http://gmao.gsfc.nasa.gov\n",
      "    Format: NetCDF-4/HDF-5\n",
      "    SpatialCoverage: global\n",
      "    VersionID: 5.12.4\n",
      "    TemporalRange: 1980-01-01 -> 2016-12-31\n",
      "    identifier_product_doi_authority: http://dx.doi.org/\n",
      "    ShortName: M2T1NXFLX\n",
      "    GranuleID: MERRA2_400.tavg1_2d_flx_Nx.20240901.nc4\n",
      "    ProductionDateTime: Original file generated: Wed Sep 11 20:40:43 2024 GMT\n",
      "    LongName: MERRA2 tavg1_2d_flx_Nx: 2d,1-Hourly,Time-Averaged,Single-Level,Assimilation,Surface Flux Diagnostics\n",
      "    Title: MERRA2 tavg1_2d_flx_Nx: 2d,1-Hourly,Time-Averaged,Single-Level,Assimilation,Surface Flux Diagnostics\n",
      "    SouthernmostLatitude: -90.0\n",
      "    NorthernmostLatitude: 90.0\n",
      "    WesternmostLongitude: -180.0\n",
      "    EasternmostLongitude: 179.375\n",
      "    LatitudeResolution: 0.5\n",
      "    LongitudeResolution: 0.625\n",
      "    DataResolution: 0.5 x 0.625\n",
      "    Source: CVS tag: GEOSadas-5_12_4_p38_SLES12_M2-OPS\n",
      "    Contact: http://gmao.gsfc.nasa.gov\n",
      "    identifier_product_doi: 10.5067/7MCPBJ41Y0K6\n",
      "    RangeBeginningDate: 2024-09-01\n",
      "    RangeBeginningTime: 00:00:00.000000\n",
      "    RangeEndingDate: 2024-09-01\n",
      "    RangeEndingTime: 23:59:59.000000\n",
      "    dimensions(sizes): lon(576), lat(361), time(24)\n",
      "    variables(dimensions): float64 lon(lon), float64 lat(lat), int32 time(time), float32 BSTAR(time, lat, lon), float32 CDH(time, lat, lon), float32 CDM(time, lat, lon), float32 CDQ(time, lat, lon), float32 CN(time, lat, lon), float32 DISPH(time, lat, lon), float32 EFLUX(time, lat, lon), float32 EVAP(time, lat, lon), float32 FRCAN(time, lat, lon), float32 FRCCN(time, lat, lon), float32 FRCLS(time, lat, lon), float32 FRSEAICE(time, lat, lon), float32 GHTSKIN(time, lat, lon), float32 HFLUX(time, lat, lon), float32 HLML(time, lat, lon), float32 NIRDF(time, lat, lon), float32 NIRDR(time, lat, lon), float32 PBLH(time, lat, lon), float32 PGENTOT(time, lat, lon), float32 PRECANV(time, lat, lon), float32 PRECCON(time, lat, lon), float32 PRECLSC(time, lat, lon), float32 PRECSNO(time, lat, lon), float32 PRECTOT(time, lat, lon), float32 PRECTOTCORR(time, lat, lon), float32 PREVTOT(time, lat, lon), float32 QLML(time, lat, lon), float32 QSH(time, lat, lon), float32 QSTAR(time, lat, lon), float32 RHOA(time, lat, lon), float32 RISFC(time, lat, lon), float32 SPEED(time, lat, lon), float32 SPEEDMAX(time, lat, lon), float32 TAUGWX(time, lat, lon), float32 TAUGWY(time, lat, lon), float32 TAUX(time, lat, lon), float32 TAUY(time, lat, lon), float32 TCZPBL(time, lat, lon), float32 TLML(time, lat, lon), float32 TSH(time, lat, lon), float32 TSTAR(time, lat, lon), float32 ULML(time, lat, lon), float32 USTAR(time, lat, lon), float32 VLML(time, lat, lon), float32 Z0H(time, lat, lon), float32 Z0M(time, lat, lon)\n",
      "    groups: \n",
      "\n",
      "Variables available in the dataset:\n",
      "dict_keys(['lon', 'lat', 'time', 'BSTAR', 'CDH', 'CDM', 'CDQ', 'CN', 'DISPH', 'EFLUX', 'EVAP', 'FRCAN', 'FRCCN', 'FRCLS', 'FRSEAICE', 'GHTSKIN', 'HFLUX', 'HLML', 'NIRDF', 'NIRDR', 'PBLH', 'PGENTOT', 'PRECANV', 'PRECCON', 'PRECLSC', 'PRECSNO', 'PRECTOT', 'PRECTOTCORR', 'PREVTOT', 'QLML', 'QSH', 'QSTAR', 'RHOA', 'RISFC', 'SPEED', 'SPEEDMAX', 'TAUGWX', 'TAUGWY', 'TAUX', 'TAUY', 'TCZPBL', 'TLML', 'TSH', 'TSTAR', 'ULML', 'USTAR', 'VLML', 'Z0H', 'Z0M'])\n",
      "Variable 'Temperature' not found in the dataset. Please check the variable name and try again.\n"
     ]
    }
   ],
   "source": [
    "import netCDF4 as nc\n",
    "import pandas as pd\n",
    "import matplotlib.pyplot as plt\n",
    "import seaborn as sns\n",
    "\n",
    "# Specify your file name (change this to your actual file name)\n",
    "file_name = \"MERRA2_400.tavg1_2d_flx_Nx.20240901.nc4\"\n",
    "\n",
    "# Open the .nc4 file\n",
    "dataset = nc.Dataset(file_name, 'r')\n",
    "\n",
    "# Print basic information about the file\n",
    "print(\"File information:\")\n",
    "print(dataset)\n",
    "\n",
    "# List all variables available in the dataset\n",
    "print(\"\\nVariables available in the dataset:\")\n",
    "print(dataset.variables.keys())\n",
    "\n",
    "# Select a specific variable to explore (change 'variable_name' to a real variable)\n",
    "# Example: variable = dataset.variables['Temperature']\n",
    "variable_name = 'Temperature'  # Replace with an actual variable from your dataset\n",
    "\n",
    "# Check if the variable exists in the dataset\n",
    "if variable_name in dataset.variables:\n",
    "    variable_data = dataset.variables[variable_name][:]\n",
    "    print(f\"\\nData for variable '{variable_name}':\")\n",
    "    print(variable_data)\n",
    "\n",
    "    # Convert variable data to a Pandas DataFrame (for 1D and 2D data)\n",
    "    if variable_data.ndim == 1:\n",
    "        df = pd.DataFrame(variable_data, columns=[variable_name])\n",
    "    elif variable_data.ndim == 2:\n",
    "        df = pd.DataFrame(variable_data)\n",
    "    else:\n",
    "        print(f\"Variable '{variable_name}' has {variable_data.ndim} dimensions. Visualization may not be straightforward.\")\n",
    "\n",
    "    # If the data is 1D, create a line plot\n",
    "    if variable_data.ndim == 1:\n",
    "        plt.figure(figsize=(10, 6))\n",
    "        plt.plot(df[variable_name], label=variable_name)\n",
    "        plt.title(f\"Line Plot of {variable_name}\")\n",
    "        plt.xlabel(\"Index\")\n",
    "        plt.ylabel(variable_name)\n",
    "        plt.legend()\n",
    "        plt.grid()\n",
    "        plt.show()\n",
    "\n",
    "    # If the data is 2D, create a heatmap\n",
    "    elif variable_data.ndim == 2:\n",
    "        plt.figure(figsize=(10, 6))\n",
    "        sns.heatmap(df, cmap=\"viridis\", cbar=True)\n",
    "        plt.title(f\"Heatmap of {variable_name}\")\n",
    "        plt.xlabel(\"Column Index\")\n",
    "        plt.ylabel(\"Row Index\")\n",
    "        plt.show()\n",
    "\n",
    "    # Save the DataFrame to CSV (optional)\n",
    "    csv_file_name = f\"{variable_name}.csv\"\n",
    "    df.to_csv(csv_file_name, index=False)\n",
    "    print(f\"\\nVariable '{variable_name}' has been saved to {csv_file_name}\")\n",
    "\n",
    "else:\n",
    "    print(f\"Variable '{variable_name}' not found in the dataset. Please check the variable name and try again.\")\n",
    "\n",
    "# Close the dataset\n",
    "dataset.close()\n"
   ]
  },
  {
   "cell_type": "code",
   "execution_count": 7,
   "metadata": {},
   "outputs": [
    {
     "name": "stdout",
     "output_type": "stream",
     "text": [
      "<class 'netCDF4._netCDF4.Variable'>\n",
      "int32 time(time)\n",
      "    long_name: time\n",
      "    units: minutes since 2024-08-28 00:30:00\n",
      "    time_increment: 10000\n",
      "    begin_date: 20240828\n",
      "    begin_time: 3000\n",
      "    vmax: 1000000000000000.0\n",
      "    vmin: -1000000000000000.0\n",
      "    valid_range: [-1.e+15  1.e+15]\n",
      "unlimited dimensions: \n",
      "current shape = (24,)\n",
      "filling off\n",
      "('time',)\n",
      "The first dimension is time.\n"
     ]
    }
   ],
   "source": [
    "import netCDF4 as nc\n",
    "\n",
    "# Open the NetCDF file\n",
    "dataset = nc.Dataset('MERRA2_20240828testcopy.nc4')\n",
    "variable = dataset.variables['time']\n",
    "\n",
    "# Print the dimensions of a specific variable\n",
    "print(dataset.variables['time'])\n",
    "print(variable.dimensions)\n",
    "\n",
    "\n"
   ]
  },
  {
   "cell_type": "code",
   "execution_count": 12,
   "metadata": {},
   "outputs": [
    {
     "name": "stdout",
     "output_type": "stream",
     "text": [
      "Variable 'time' details:\n",
      "Dimensions: ('time',)\n",
      "Shape: (24,)\n",
      "The first dimension is 'time'.\n"
     ]
    }
   ],
   "source": [
    "import netCDF4 as nc\n",
    "\n",
    "# Open the NetCDF file\n",
    "file_path = 'MERRA2_20240828testcopy.nc4'  # Replace with your file path\n",
    "dataset = nc.Dataset(file_path, 'r')\n",
    "\n",
    "# Specify the variable name\n",
    "var_name = 'time'  # Replace with the variable name you want to analyze\n",
    "\n",
    "# Check if the variable exists and examine its structure\n",
    "if var_name in dataset.variables:\n",
    "    variable = dataset.variables[var_name]\n",
    "    print(f\"Variable '{var_name}' details:\")\n",
    "    print(f\"Dimensions: {variable.dimensions}\")\n",
    "    print(f\"Shape: {variable.shape}\")\n",
    "\n",
    "    # Verify if 'time' is the first dimension\n",
    "    if variable.dimensions[0] == 'time':\n",
    "        print(\"The first dimension is 'time'.\")\n",
    "    else:\n",
    "        print(f\"The first dimension is '{variable.dimensions[0]}'.\")\n",
    "\n",
    "\n",
    "# Close the dataset when done\n",
    "dataset.close()\n"
   ]
  },
  {
   "cell_type": "code",
   "execution_count": 14,
   "metadata": {},
   "outputs": [
    {
     "name": "stdout",
     "output_type": "stream",
     "text": [
      "Dimensions of variable 'PRECTOT': ('time', 'lat', 'lon')\n"
     ]
    }
   ],
   "source": [
    "import netCDF4 as nc\n",
    "\n",
    "# Open the NetCDF file\n",
    "file_path = 'MERRA2_20240828testcopy.nc4'  # Replace with your file path\n",
    "dataset = nc.Dataset(file_path, 'r')\n",
    "\n",
    "# Specify the variable name you want to analyze\n",
    "var_name = 'PRECTOT'  # Replace with your variable name\n",
    "\n",
    "# Check if the variable exists in the dataset\n",
    "if var_name in dataset.variables:\n",
    "    # Get the variable object\n",
    "    variable = dataset.variables[var_name]\n",
    "    \n",
    "    # Print the entire tuple of dimensions\n",
    "    print(f\"Dimensions of variable '{var_name}': {variable.dimensions}\")\n",
    "else:\n",
    "    print(f\"Variable '{var_name}' not found in the dataset.\")\n",
    "\n",
    "# Close the dataset when done\n",
    "dataset.close()\n"
   ]
  },
  {
   "cell_type": "code",
   "execution_count": null,
   "metadata": {},
   "outputs": [],
   "source": []
  }
 ],
 "metadata": {
  "kernelspec": {
   "display_name": "MLenv",
   "language": "python",
   "name": "python3"
  },
  "language_info": {
   "codemirror_mode": {
    "name": "ipython",
    "version": 3
   },
   "file_extension": ".py",
   "mimetype": "text/x-python",
   "name": "python",
   "nbconvert_exporter": "python",
   "pygments_lexer": "ipython3",
   "version": "3.9.18"
  }
 },
 "nbformat": 4,
 "nbformat_minor": 2
}
